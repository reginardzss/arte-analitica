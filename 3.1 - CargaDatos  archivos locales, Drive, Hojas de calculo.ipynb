{
 "cells": [
  {
   "cell_type": "markdown",
   "metadata": {
    "id": "eikfzi8ZT_rW"
   },
   "source": [
    "# Lectura de archivos \n",
    "\n",
    "\n",
    "Semana Tec\n",
    "\n",
    "Profesores: Luz Eunice Angeles /José Ignacio Treviño"
   ]
  },
  {
   "cell_type": "markdown",
   "metadata": {
    "id": "GPNJhozQJdtQ"
   },
   "source": [
    "Qué aprenderemos: \n",
    "\n",
    "- Subir archivos desde el sistema de archivos local \n",
    "- Descargar archivos en el slistema de archivos local \n",
    "- Acceder a google drive \n",
    "  - Activarlo de en el entorno de ejecución\n",
    "  - Usar una API : PyDrive\n",
    "- Crear y leer datos de google sheets\n"
   ]
  },
  {
   "cell_type": "markdown",
   "metadata": {
    "id": "BaCkyg5CV5jF"
   },
   "source": [
    "## Subir archivos desde el sistema de archivos local\n",
    "\n",
    "<code>files.upload</code> es usado para cargar los archivos y conocer el diccionario de los archivos que se cargaron.\n",
    "El diccionario está codificado según el nombre de archivo y los valores son los datos que se subieron."
   ]
  },
  {
   "cell_type": "code",
   "execution_count": null,
   "metadata": {
    "colab": {
     "base_uri": "https://localhost:8080/",
     "height": 242,
     "resources": {
      "http://localhost:8080/nbextensions/google.colab/files.js": {
       "data": "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",
       "headers": [
        [
         "content-type",
         "application/javascript"
        ]
       ],
       "ok": true,
       "status": 200,
       "status_text": ""
      }
     }
    },
    "executionInfo": {
     "elapsed": 10289,
     "status": "ok",
     "timestamp": 1615128429632,
     "user": {
      "displayName": "Luz Eunice Angeles Ochoa",
      "photoUrl": "",
      "userId": "10545729130793996561"
     },
     "user_tz": 360
    },
    "id": "vz-jH8T_Uk2c",
    "outputId": "b627317a-98cd-4748-b12e-abec5622acea"
   },
   "outputs": [
    {
     "data": {
      "text/html": [
       "\n",
       "     <input type=\"file\" id=\"files-b39da493-38cf-4f14-a3ea-08a465955ca3\" name=\"files[]\" multiple disabled\n",
       "        style=\"border:none\" />\n",
       "     <output id=\"result-b39da493-38cf-4f14-a3ea-08a465955ca3\">\n",
       "      Upload widget is only available when the cell has been executed in the\n",
       "      current browser session. Please rerun this cell to enable.\n",
       "      </output>\n",
       "      <script src=\"/nbextensions/google.colab/files.js\"></script> "
      ],
      "text/plain": [
       "<IPython.core.display.HTML object>"
      ]
     },
     "metadata": {
      "tags": []
     },
     "output_type": "display_data"
    },
    {
     "name": "stdout",
     "output_type": "stream",
     "text": [
      "Saving qna-metadata.csv to qna-metadata.csv\n",
      "Saving qna-pregunta.csv to qna-pregunta.csv\n",
      "Saving qna-relacion.csv to qna-relacion.csv\n",
      "Saving qna-respuesta.csv to qna-respuesta.csv\n",
      "User uploaded file \"qna-metadata.csv\" with length 139 bytes\n",
      "User uploaded file \"qna-pregunta.csv\" with length 256 bytes\n",
      "User uploaded file \"qna-relacion.csv\" with length 87 bytes\n",
      "User uploaded file \"qna-respuesta.csv\" with length 366 bytes\n"
     ]
    }
   ],
   "source": [
    "from google.colab import files\n",
    "\n",
    "uploaded = files.upload()\n",
    "\n",
    "for fn in uploaded.keys():\n",
    "  print('User uploaded file \"{name}\" with length {length} bytes'.format(\n",
    "      name=fn, length=len(uploaded[fn])))"
   ]
  },
  {
   "cell_type": "markdown",
   "metadata": {
    "id": "hauvGV4hV-Mh"
   },
   "source": [
    "## Descargar archivos en el sistema de archivos local\n",
    "\n",
    "<code>files.download</code> invocará una descarga del archivo desde el navegador a tu computadora local.\n"
   ]
  },
  {
   "cell_type": "code",
   "execution_count": null,
   "metadata": {
    "colab": {
     "base_uri": "https://localhost:8080/",
     "height": 17
    },
    "executionInfo": {
     "elapsed": 306,
     "status": "ok",
     "timestamp": 1615128889247,
     "user": {
      "displayName": "Luz Eunice Angeles Ochoa",
      "photoUrl": "",
      "userId": "10545729130793996561"
     },
     "user_tz": 360
    },
    "id": "p2E4EKhCWEC5",
    "outputId": "fbbb5b09-b7bb-4416-ef43-852466145059"
   },
   "outputs": [
    {
     "data": {
      "application/javascript": "\n    async function download(id, filename, size) {\n      if (!google.colab.kernel.accessAllowed) {\n        return;\n      }\n      const div = document.createElement('div');\n      const label = document.createElement('label');\n      label.textContent = `Downloading \"${filename}\": `;\n      div.appendChild(label);\n      const progress = document.createElement('progress');\n      progress.max = size;\n      div.appendChild(progress);\n      document.body.appendChild(div);\n\n      const buffers = [];\n      let downloaded = 0;\n\n      const channel = await google.colab.kernel.comms.open(id);\n      // Send a message to notify the kernel that we're ready.\n      channel.send({})\n\n      for await (const message of channel.messages) {\n        // Send a message to notify the kernel that we're ready.\n        channel.send({})\n        if (message.buffers) {\n          for (const buffer of message.buffers) {\n            buffers.push(buffer);\n            downloaded += buffer.byteLength;\n            progress.value = downloaded;\n          }\n        }\n      }\n      const blob = new Blob(buffers, {type: 'application/binary'});\n      const a = document.createElement('a');\n      a.href = window.URL.createObjectURL(blob);\n      a.download = filename;\n      div.appendChild(a);\n      a.click();\n      div.remove();\n    }\n  ",
      "text/plain": [
       "<IPython.core.display.Javascript object>"
      ]
     },
     "metadata": {
      "tags": []
     },
     "output_type": "display_data"
    },
    {
     "data": {
      "application/javascript": "download(\"download_0a3cb670-3a31-4ace-be91-db19da19b9cc\", \"example.txt\", 12)",
      "text/plain": [
       "<IPython.core.display.Javascript object>"
      ]
     },
     "metadata": {
      "tags": []
     },
     "output_type": "display_data"
    }
   ],
   "source": [
    "from google.colab import files\n",
    "\n",
    "with open('example.txt', 'w') as f:\n",
    "  f.write('some content')\n",
    "\n",
    "files.download('example.txt')"
   ]
  },
  {
   "cell_type": "code",
   "execution_count": null,
   "metadata": {
    "colab": {
     "base_uri": "https://localhost:8080/"
    },
    "executionInfo": {
     "elapsed": 351,
     "status": "ok",
     "timestamp": 1615129281131,
     "user": {
      "displayName": "Luz Eunice Angeles Ochoa",
      "photoUrl": "",
      "userId": "10545729130793996561"
     },
     "user_tz": 360
    },
    "id": "U6Y05HC6NPgE",
    "outputId": "e1b2d271-356e-4cd8-8502-c1751bdce10f"
   },
   "outputs": [
    {
     "name": "stdout",
     "output_type": "stream",
     "text": [
      "qna-metadata.csv  qna-relacion.csv   \u001b[0m\u001b[01;34msample_data\u001b[0m/\n",
      "qna-pregunta.csv  qna-respuesta.csv\n"
     ]
    }
   ],
   "source": [
    "ls"
   ]
  },
  {
   "cell_type": "markdown",
   "metadata": {
    "id": "c2W5A2px3doP"
   },
   "source": [
    "# Google Drive\n",
    "\n",
    "Puedes acceder a archivos en Drive de varias maneras, incluidas las siguientes:\n",
    "- Activación de Google Drive en la máquina virtual del entorno de ejecución\n",
    "- Usar un wrapper alrededor de la API, como <a href=\"https://gsuitedevs.github.io/PyDrive/docs/build/html/index.html\">PyDrive</a>\n",
    "- Usar la <a href=\"https://developers.google.com/drive/v3/web/about-sdk\">API nativa de REST</a>\n",
    "\n",
    "\n",
    "\n",
    "Puedes ver ejemplos de cada caso más abajo."
   ]
  },
  {
   "cell_type": "markdown",
   "metadata": {
    "id": "u22w3BFiOveA"
   },
   "source": [
    "## Activar Google Drive de forma local\n",
    "\n",
    "El ejemplo siguiente muestra cómo activar Google Drive en el entorno de ejecución mediante un código de autorización y cómo escribir y leer archivos allí. Una vez ejecutado, podrás ver el archivo nuevo &#40;<code>foo.txt</code>&#41; en <a href=\"https://drive.google.com/\">https://drive.google.com/</a>.\n",
    "\n",
    "Ten en cuenta que solo se puede leer, escribir o mover archivos. "
   ]
  },
  {
   "cell_type": "code",
   "execution_count": null,
   "metadata": {
    "colab": {
     "base_uri": "https://localhost:8080/"
    },
    "executionInfo": {
     "elapsed": 248,
     "status": "ok",
     "timestamp": 1615131356913,
     "user": {
      "displayName": "Luz Eunice Angeles Ochoa",
      "photoUrl": "",
      "userId": "10545729130793996561"
     },
     "user_tz": 360
    },
    "id": "RWSJpsyKqHjH",
    "outputId": "51a1ba49-240a-41f9-96ec-eab1fd918e7e"
   },
   "outputs": [
    {
     "name": "stdout",
     "output_type": "stream",
     "text": [
      "Drive already mounted at /content/drive; to attempt to forcibly remount, call drive.mount(\"/content/drive\", force_remount=True).\n"
     ]
    }
   ],
   "source": [
    "from google.colab import drive\n",
    "drive.mount('/content/drive')"
   ]
  },
  {
   "cell_type": "code",
   "execution_count": null,
   "metadata": {
    "colab": {
     "base_uri": "https://localhost:8080/"
    },
    "executionInfo": {
     "elapsed": 357,
     "status": "ok",
     "timestamp": 1615131442399,
     "user": {
      "displayName": "Luz Eunice Angeles Ochoa",
      "photoUrl": "",
      "userId": "10545729130793996561"
     },
     "user_tz": 360
    },
    "id": "XDg9OBaYqRMd",
    "outputId": "5cc32d49-f374-4e8d-f731-92551094236c"
   },
   "outputs": [
    {
     "name": "stdout",
     "output_type": "stream",
     "text": [
      "Hello Google Drive!"
     ]
    }
   ],
   "source": [
    "with open('/content/drive/My Drive/semanaTec/foo.txt', 'w') as f:\n",
    "  f.write('Hello Google Drive!')\n",
    "!cat /content/drive/My\\ Drive/semanaTec/foo.txt"
   ]
  },
  {
   "cell_type": "markdown",
   "metadata": {
    "id": "7taylj9wpsA2"
   },
   "source": [
    "## PyDrive\n",
    "\n",
    "En los ejemplos que aparecen a continuación, se muestran la autenticación y la carga y descarga de archivos mediante PyDrive. Puedes encontrar más ejemplos en la <a href=\"https://gsuitedevs.github.io/PyDrive/docs/build/html/index.html\">documentación de PyDrive</a>."
   ]
  },
  {
   "cell_type": "code",
   "execution_count": null,
   "metadata": {
    "id": "zU5b6dlRwUQk"
   },
   "outputs": [],
   "source": [
    "from pydrive.auth import GoogleAuth\n",
    "from pydrive.drive import GoogleDrive\n",
    "from google.colab import auth\n",
    "from oauth2client.client import GoogleCredentials"
   ]
  },
  {
   "cell_type": "markdown",
   "metadata": {
    "id": "XkHZtRhm09QS"
   },
   "source": [
    "Autentica y crea el cliente de PyDrive.\n"
   ]
  },
  {
   "cell_type": "code",
   "execution_count": null,
   "metadata": {
    "id": "1w7lrGcW08Ds"
   },
   "outputs": [],
   "source": [
    "auth.authenticate_user()\n",
    "gauth = GoogleAuth()\n",
    "gauth.credentials = GoogleCredentials.get_application_default()\n",
    "drive = GoogleDrive(gauth)"
   ]
  },
  {
   "cell_type": "markdown",
   "metadata": {
    "id": "v5sEXnJBeDJy"
   },
   "source": [
    "Lista de ids de cada carpeta que tenemos en el google drive"
   ]
  },
  {
   "cell_type": "code",
   "execution_count": null,
   "metadata": {
    "colab": {
     "base_uri": "https://localhost:8080/"
    },
    "executionInfo": {
     "elapsed": 632,
     "status": "ok",
     "timestamp": 1615134074821,
     "user": {
      "displayName": "Luz Eunice Angeles Ochoa",
      "photoUrl": "",
      "userId": "10545729130793996561"
     },
     "user_tz": 360
    },
    "id": "9WeQYVWxd-cq",
    "outputId": "1c201df3-1c94-4288-9ad2-1b38bcf31a53"
   },
   "outputs": [
    {
     "name": "stdout",
     "output_type": "stream",
     "text": [
      "title: semanaTec, id: 1r3STNnFiq8uRhifgq96dbO2keF58zFqU\n",
      "title: archivos, id: 1xEV_MHXdQF9vU0oT6fMzRvcOvyluYTH1\n",
      "title: 20200319_195129.mp4, id: 1M8bPzsJNDSVv5kf2thY-CeZIAwf4qDVb\n",
      "title: 20201111_190825.mp4, id: 1JDsGjBPY7Xe2QTEUnqFXrCrF73WobDbY\n",
      "title: BaseDatos, id: 1QLLxkAQ9g9a3UGZcKNYzr6KsN46_k1QO\n",
      "title: Clase01, id: 1G4HZW840BqdfW-TWdRCSQwWaX23pRVzd\n",
      "title: .ipynb_checkpoints, id: 1-4sQyc8VjT2N8iiwfgBWVipyQ-ZNbcRm\n",
      "title: Fotos, id: 1h8Elrq1X0-J0yPnhDeLSrW8UC4MpdHTL\n",
      "title: Personal, id: 1jD2mW3wKVP8tMurSNBHF5Q0KVrn0aZG-\n",
      "title: rekognition-notebook, id: 1B7Ce7DhYtFQq08BvxVUeXt3AUm6emiEw\n",
      "title: GoogleColaboratory, id: 1IDUiQ2j2anxehJbr8YRs7Wt5dEcXDlnn\n",
      "title: Gravity, id: 1dU9GZCPpOIUWvzovhUSva07uirw6rK4B\n",
      "title: DataRita, id: 11nKIadA9b6oslqOpXdXkkl1b32IDx6JN\n",
      "title: Colab Notebooks, id: 1OH7bK91su-lmukeiSDJocjXiselwMoyP\n",
      "title: Checklist para Entrega de Proyecto, id: 14yOnTeYkJz2zNgPrblQTvnIggZwD8Np3Lk8lU4-dt9s\n",
      "title: Proto Data lake (azure+mongo).drawio, id: 1HLFaOgWddIY6tc54rOZHxBUb8jdtIsuZ\n",
      "title: Gravity | Alcance de Proyecto y Roadmap, id: 1uM4WLg7QGx-qVKXQTq--3-lqEUJT9_v7r2q0CuF39RY\n",
      "title: meeting_saved_chat.txt, id: 1G0t91psycM1jgkmhiyc6TD2htzGrQkVD\n",
      "title: Eventos implementados en Pin Point, id: 1enzLOPiLAYT9szYnNEyz5CAgBsA99l-s5tKP62dY9wk\n",
      "title: Indice de Documentación | Gravity | Wizeline, id: 1YneI7RXb2MBZtmYWyQe8h_vvRbksISWqk7My9z7uqAE\n",
      "title: Arquitectura Gravity [Work in Progress], id: 1gHBn5X18MGpIyOuOHzBKHa4-opuCjOLqWdFpLJ2fCS4\n",
      "title: Glosario | Gravity | Wizeline, id: 1vKpuzqzOJS2lpuBC9LGPAAxsAqywdIeExiOE4vzcs0E\n",
      "title: Docs, id: 18Y0FbeP6sndHWTIXKS3BsujydGxQsHgI\n",
      "title: ImagenesECO, id: 1d0XEc8rCUdLrCqFj9yCnHH97L95NjZFf\n",
      "title: Luz Respaldo, id: 1jxjpolh9D3gNhhGp4tKzzg67s-wiE3RO\n"
     ]
    }
   ],
   "source": [
    "file_list = drive.ListFile({'q': \"'root' in parents and trashed=false\"}).GetList()\n",
    "for file1 in file_list:       \n",
    "    print ('title: %s, id: %s' % (file1['title'], file1['id']))\n"
   ]
  },
  {
   "cell_type": "code",
   "execution_count": null,
   "metadata": {
    "id": "0LRIU2pteNtj"
   },
   "outputs": [],
   "source": [
    "fid= '1r3STNnFiq8uRhifgq96dbO2keF58zFqU'"
   ]
  },
  {
   "cell_type": "markdown",
   "metadata": {
    "id": "ZF3Topk31DCF"
   },
   "source": [
    "Crea y sube un archivo de texto.\n"
   ]
  },
  {
   "cell_type": "code",
   "execution_count": null,
   "metadata": {
    "colab": {
     "base_uri": "https://localhost:8080/"
    },
    "executionInfo": {
     "elapsed": 1550,
     "status": "ok",
     "timestamp": 1615134079546,
     "user": {
      "displayName": "Luz Eunice Angeles Ochoa",
      "photoUrl": "",
      "userId": "10545729130793996561"
     },
     "user_tz": 360
    },
    "id": "vBuUW-q41tb7",
    "outputId": "aa797b3e-567c-4a4b-d25f-862046b795e2"
   },
   "outputs": [
    {
     "name": "stdout",
     "output_type": "stream",
     "text": [
      "Uploaded file with ID 1fzU8VPHCQqGPW9H6tmK0QcvZqqhGoOSQ\n"
     ]
    }
   ],
   "source": [
    "uploaded = drive.CreateFile({'title': 'Sample upload.txt','parents':[{\"id\":fid}]})\n",
    "uploaded.SetContentString('Sample upload file content')\n",
    "uploaded.Upload()\n",
    "print('Uploaded file with ID {}'.format(uploaded.get('id')))"
   ]
  },
  {
   "cell_type": "markdown",
   "metadata": {
    "id": "bbOFN3d_1tcG"
   },
   "source": [
    "Carga un archivo por su ID y luego imprime su contenido.\n"
   ]
  },
  {
   "cell_type": "code",
   "execution_count": null,
   "metadata": {
    "colab": {
     "base_uri": "https://localhost:8080/",
     "height": 35
    },
    "executionInfo": {
     "elapsed": 251,
     "status": "ok",
     "timestamp": 1615134043670,
     "user": {
      "displayName": "Luz Eunice Angeles Ochoa",
      "photoUrl": "",
      "userId": "10545729130793996561"
     },
     "user_tz": 360
    },
    "id": "F1hDt7fqfaYd",
    "outputId": "d5eaebf5-6da4-4c86-c187-d149fa005db6"
   },
   "outputs": [
    {
     "data": {
      "application/vnd.google.colaboratory.intrinsic+json": {
       "type": "string"
      },
      "text/plain": [
       "'1irKkQkYNkGqKVMitMGtJtK3nJYbZ8OAX'"
      ]
     },
     "execution_count": 56,
     "metadata": {
      "tags": []
     },
     "output_type": "execute_result"
    }
   ],
   "source": [
    "uploaded.get('id')"
   ]
  },
  {
   "cell_type": "code",
   "execution_count": null,
   "metadata": {
    "colab": {
     "base_uri": "https://localhost:8080/"
    },
    "executionInfo": {
     "elapsed": 876,
     "status": "ok",
     "timestamp": 1615134113493,
     "user": {
      "displayName": "Luz Eunice Angeles Ochoa",
      "photoUrl": "",
      "userId": "10545729130793996561"
     },
     "user_tz": 360
    },
    "id": "eFOvsAYk1tcH",
    "outputId": "89084b7e-d45e-4d64-c70a-e6f0b510d3cd"
   },
   "outputs": [
    {
     "name": "stdout",
     "output_type": "stream",
     "text": [
      "Downloaded content \"Sample upload file content\r\n",
      "modificar\"\n"
     ]
    }
   ],
   "source": [
    "downloaded = drive.CreateFile({'id': uploaded.get('id')})\n",
    "print('Downloaded content \"{}\"'.format(downloaded.GetContentString()))"
   ]
  },
  {
   "cell_type": "markdown",
   "metadata": {
    "id": "sOm9PFrT8mGG"
   },
   "source": [
    "# Hojas de cálculo de Google\n",
    "\n",
    "Los ejemplos de abajo usan la biblioteca de código abierto <a href=\"https://github.com/burnash/gspread\"><code>gspread</code></a> para interactuar con Hojas de cálculo de Google.\n",
    "\n",
    "Primero, instala el paquete usando <code>pip</code>."
   ]
  },
  {
   "cell_type": "code",
   "execution_count": null,
   "metadata": {
    "id": "Mwu_sWHv4jEo"
   },
   "outputs": [],
   "source": [
    "!pip install --upgrade --quiet gspread"
   ]
  },
  {
   "cell_type": "markdown",
   "metadata": {
    "id": "qzi9VsEqzI-o"
   },
   "source": [
    "Importa la biblioteca, autentica y crea la interfaz para Hojas de cálculo."
   ]
  },
  {
   "cell_type": "code",
   "execution_count": null,
   "metadata": {
    "id": "6d0xJz3VzLOo"
   },
   "outputs": [],
   "source": [
    "from google.colab import auth\n",
    "auth.authenticate_user()\n",
    "\n",
    "import gspread\n",
    "from google.auth import default\n",
    "creds, _ = default()\n",
    "\n",
    "gc = gspread.authorize(creds)"
   ]
  },
  {
   "cell_type": "markdown",
   "metadata": {
    "id": "yjrZQUrt6kKj"
   },
   "source": [
    "A continuación, verás un pequeño conjunto de ejemplos de <code>gspread</code>. Puedes encontrar más ejemplos en la <a href=\"https://github.com/burnash/gspread#more-examples\">página de GitHub de <code>gspread</code></a>."
   ]
  },
  {
   "cell_type": "markdown",
   "metadata": {
    "id": "WgXqE02UofZG"
   },
   "source": [
    "## Crear una hoja nueva con datos de Python"
   ]
  },
  {
   "cell_type": "code",
   "execution_count": null,
   "metadata": {
    "id": "tnnYKhGfzGeP"
   },
   "outputs": [],
   "source": [
    "sh = gc.create('My cool spreadsheet')"
   ]
  },
  {
   "cell_type": "markdown",
   "metadata": {
    "id": "v9Ia9JVc6Zvk"
   },
   "source": [
    "Después de ejecutar la celda anterior, se mostrará una nueva hoja de cálculo con el nombre \"My cool spreadsheet\" en <a href=\"https://sheets.google.com/\">https://sheets.google.com</a>.\n",
    "\n",
    "Abre la hoja nueva y agrega datos aleatorios."
   ]
  },
  {
   "cell_type": "code",
   "execution_count": null,
   "metadata": {
    "colab": {
     "base_uri": "https://localhost:8080/"
    },
    "executionInfo": {
     "elapsed": 1563,
     "status": "ok",
     "timestamp": 1615135573873,
     "user": {
      "displayName": "Luz Eunice Angeles Ochoa",
      "photoUrl": "",
      "userId": "10545729130793996561"
     },
     "user_tz": 360
    },
    "id": "ASdgLIt2s-ux",
    "outputId": "a3fbe9b2-0491-4df5-feb6-6f0c2f62a2e8"
   },
   "outputs": [
    {
     "data": {
      "text/plain": [
       "{'spreadsheetId': '1tE6ynMLATZl1HJtFGp9KmjmjC292JTNEgyu8BK4ZBtU',\n",
       " 'updatedCells': 6,\n",
       " 'updatedColumns': 3,\n",
       " 'updatedRange': 'Sheet1!A1:C2',\n",
       " 'updatedRows': 2}"
      ]
     },
     "execution_count": 67,
     "metadata": {
      "tags": []
     },
     "output_type": "execute_result"
    }
   ],
   "source": [
    "worksheet = gc.open('My cool spreadsheet').sheet1\n",
    "\n",
    "cell_list = worksheet.range('A1:C2')\n",
    "\n",
    "import random\n",
    "for cell in cell_list:\n",
    "  cell.value = random.randint(1, 10)\n",
    "\n",
    "worksheet.update_cells(cell_list)"
   ]
  },
  {
   "cell_type": "markdown",
   "metadata": {
    "id": "k9q0pp33dckN"
   },
   "source": [
    "## Descargar datos de una hoja de cálculo en Python como un DataFrame de Pandas\n",
    "\n",
    "Vuelve a leer los datos aleatorios que insertamos anteriormente y convierte el resultado en un <a href=\"https://pandas.pydata.org/pandas-docs/stable/generated/pandas.DataFrame.html\">DataFrame de Pandas</a>."
   ]
  },
  {
   "cell_type": "code",
   "execution_count": null,
   "metadata": {
    "colab": {
     "base_uri": "https://localhost:8080/"
    },
    "executionInfo": {
     "elapsed": 1181,
     "status": "ok",
     "timestamp": 1615135670550,
     "user": {
      "displayName": "Luz Eunice Angeles Ochoa",
      "photoUrl": "",
      "userId": "10545729130793996561"
     },
     "user_tz": 360
    },
    "id": "J4QxBareshEV",
    "outputId": "de558c15-b932-495e-ea05-c8d8ee4adcd4"
   },
   "outputs": [
    {
     "name": "stdout",
     "output_type": "stream",
     "text": [
      "******************Lista de datos*********************\n",
      "[['9', '4', '10'], ['4', '2', '7']]\n",
      "******************Data Frame*********************\n",
      "   0  1   2\n",
      "0  9  4  10\n",
      "1  4  2   7\n"
     ]
    }
   ],
   "source": [
    "worksheet = gc.open('My cool spreadsheet').sheet1\n",
    "\n",
    "# get_all_values gives a list of rows.\n",
    "rows = worksheet.get_all_values()\n",
    "print('******************Lista de datos*********************')\n",
    "print(rows)\n",
    "\n",
    "import pandas as pd\n",
    "dataset=pd.DataFrame.from_records(rows)\n",
    "print('******************Data Frame*********************')\n",
    "print(dataset)"
   ]
  }
 ],
 "metadata": {
  "colab": {
   "collapsed_sections": [],
   "name": "Lectura: archivos locales, Drive, Hojas de cálculo  - SemanaTec",
   "provenance": [
    {
     "file_id": "1nkn9Nl6vS5ZsU44WTlPSw9pScGSgO0c2",
     "timestamp": 1615128254335
    },
    {
     "file_id": "/v2/external/notebooks/io.ipynb",
     "timestamp": 1572544305165
    }
   ],
   "toc_visible": true
  },
  "kernelspec": {
   "display_name": "Python 3",
   "language": "python",
   "name": "python3"
  },
  "language_info": {
   "codemirror_mode": {
    "name": "ipython",
    "version": 3
   },
   "file_extension": ".py",
   "mimetype": "text/x-python",
   "name": "python",
   "nbconvert_exporter": "python",
   "pygments_lexer": "ipython3",
   "version": "3.8.3"
  }
 },
 "nbformat": 4,
 "nbformat_minor": 1
}
